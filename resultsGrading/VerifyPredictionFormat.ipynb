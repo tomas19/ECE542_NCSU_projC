{
 "cells": [
  {
   "cell_type": "markdown",
   "id": "RoLrYPAGNmYg",
   "metadata": {
    "id": "RoLrYPAGNmYg"
   },
   "source": [
    "# Check on Proj-C Predictions Format\n",
    "\n",
    "This notebook performs a quick test on the format of the data including checking that the files are named correctly and that the predictions are in the correct format. This is not checking for accuracy of the predictions."
   ]
  },
  {
   "cell_type": "code",
   "execution_count": 1,
   "id": "-Rc6FLxqNmYk",
   "metadata": {
    "id": "-Rc6FLxqNmYk"
   },
   "outputs": [],
   "source": [
    "import glob \n",
    "import os\n",
    "import numpy as np\n",
    "\n",
    "# Specifying the folder containg the data\n",
    "folderPred = os.getcwd()\n",
    "\n",
    "# Getting the list of subject files and sorting them\n",
    "L = glob.glob(folderPred + '/subject_*__y.csv')\n",
    "L.sort()"
   ]
  },
  {
   "cell_type": "code",
   "execution_count": 2,
   "id": "nfwrU6ZnNmYl",
   "metadata": {
    "id": "nfwrU6ZnNmYl"
   },
   "outputs": [],
   "source": [
    "# Checking that the number of files and the names are correct\n",
    "assert len(L)==4\n",
    "assert os.path.basename(L[0])=='subject_009_01__y.csv'\n",
    "assert os.path.basename(L[1])=='subject_010_01__y.csv'\n",
    "assert os.path.basename(L[2])=='subject_011_01__y.csv'\n",
    "assert os.path.basename(L[3])=='subject_012_01__y.csv'"
   ]
  },
  {
   "cell_type": "code",
   "execution_count": 9,
   "id": "_KOW_0ELNmYm",
   "metadata": {
    "id": "_KOW_0ELNmYm"
   },
   "outputs": [
    {
     "name": "stdout",
     "output_type": "stream",
     "text": [
      "3\n"
     ]
    },
    {
     "ename": "AssertionError",
     "evalue": "",
     "output_type": "error",
     "traceback": [
      "\u001b[0;31m---------------------------------------------------------------------------\u001b[0m",
      "\u001b[0;31mAssertionError\u001b[0m                            Traceback (most recent call last)",
      "Cell \u001b[0;32mIn[9], line 11\u001b[0m\n\u001b[1;32m      8\u001b[0m pred \u001b[38;5;241m=\u001b[39m np\u001b[38;5;241m.\u001b[39mgenfromtxt(L[i], delimiter\u001b[38;5;241m=\u001b[39m\u001b[38;5;124m'\u001b[39m\u001b[38;5;124m,\u001b[39m\u001b[38;5;124m'\u001b[39m)\n\u001b[1;32m     10\u001b[0m \u001b[38;5;28;01massert\u001b[39;00m \u001b[38;5;28mlen\u001b[39m(pred\u001b[38;5;241m.\u001b[39mshape)\u001b[38;5;241m==\u001b[39m\u001b[38;5;241m1\u001b[39m \u001b[38;5;66;03m# Checking that this is a single column\u001b[39;00m\n\u001b[0;32m---> 11\u001b[0m \u001b[38;5;28;01massert\u001b[39;00m pred\u001b[38;5;241m.\u001b[39mshape[\u001b[38;5;241m0\u001b[39m]\u001b[38;5;241m==\u001b[39mpredLen[i] \u001b[38;5;66;03m# Making sure you have the correct number of data points\u001b[39;00m\n\u001b[1;32m     12\u001b[0m \u001b[38;5;28;01massert\u001b[39;00m \u001b[38;5;28mmin\u001b[39m(pred)\u001b[38;5;241m>\u001b[39m\u001b[38;5;241m=\u001b[39m\u001b[38;5;241m0\u001b[39m \u001b[38;5;129;01mand\u001b[39;00m \u001b[38;5;28mmax\u001b[39m(pred)\u001b[38;5;241m<\u001b[39m\u001b[38;5;241m=\u001b[39m\u001b[38;5;241m3\u001b[39m \u001b[38;5;66;03m# Prediction should be either 0, 1, 2, or 3\u001b[39;00m\n",
      "\u001b[0;31mAssertionError\u001b[0m: "
     ]
    }
   ],
   "source": [
    "# Specifying the data expected lengths of the predictions\n",
    "predLen = [9498, 12270, 12940, 11330]\n",
    "\n",
    "# Loading the data\n",
    "for i in range(3,4):\n",
    "    print(i)\n",
    "    # Loading the predictions\n",
    "    pred = np.genfromtxt(L[i], delimiter=',')\n",
    "    \n",
    "    assert len(pred.shape)==1 # Checking that this is a single column\n",
    "    assert pred.shape[0]==predLen[i] # Making sure you have the correct number of data points\n",
    "    assert min(pred)>=0 and max(pred)<=3 # Prediction should be either 0, 1, 2, or 3\n"
   ]
  },
  {
   "cell_type": "code",
   "execution_count": null,
   "id": "9bff6928",
   "metadata": {},
   "outputs": [],
   "source": []
  }
 ],
 "metadata": {
  "colab": {
   "provenance": []
  },
  "interpreter": {
   "hash": "10c0928ba3ac0d010389b3498f6af041e43ef91db4f78656973ea877bcbaf9d4"
  },
  "kernelspec": {
   "display_name": "Python 3 (ipykernel)",
   "language": "python",
   "name": "python3"
  },
  "language_info": {
   "codemirror_mode": {
    "name": "ipython",
    "version": 3
   },
   "file_extension": ".py",
   "mimetype": "text/x-python",
   "name": "python",
   "nbconvert_exporter": "python",
   "pygments_lexer": "ipython3",
   "version": "3.9.16"
  }
 },
 "nbformat": 4,
 "nbformat_minor": 5
}
