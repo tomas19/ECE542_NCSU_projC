{
 "cells": [
  {
   "cell_type": "code",
   "execution_count": 2,
   "metadata": {},
   "outputs": [],
   "source": [
    "import sys\n",
    "sys.path.append(r'/home/tacuevas/github/ECE542_NCSU_projC')\n",
    "import os\n",
    "import numpy as np\n",
    "import pandas as pd\n",
    "from pathlib import Path\n",
    "import matplotlib.pyplot as plt\n",
    "colors = plt.rcParams['axes.prop_cycle'].by_key()['color']\n",
    "from sklearn.preprocessing import  StandardScaler\n",
    "from sklearn.metrics import confusion_matrix, ConfusionMatrixDisplay\n",
    "import torch\n",
    "import torch.nn as nn\n",
    "import torch.nn.functional as F\n",
    "import copy\n",
    "from scipy.spatial.distance import cdist\n",
    "from sklearn.metrics import f1_score\n",
    "import pickle\n",
    "from pathlib import Path\n",
    "\n",
    "import warnings\n",
    "warnings.filterwarnings('ignore')\n",
    "from utils import *"
   ]
  },
  {
   "cell_type": "code",
   "execution_count": 3,
   "metadata": {},
   "outputs": [],
   "source": [
    "## read data as a dictionary with each subject as a different key\n",
    "## the sessions are included as a column in each dataframe\n",
    "pathData = Path(r'/home/tacuevas/github/ECE542_NCSU_projC/TrainingData')\n",
    "dctData = read_data(pathData)"
   ]
  },
  {
   "cell_type": "code",
   "execution_count": 4,
   "metadata": {},
   "outputs": [],
   "source": [
    "## upsample labels using nearest neighbor\n",
    "# dctUps = upsampleData(dctData)\n",
    "with open(r'/mnt/drive1/Insyncs/NCSU/courses/ECE542/projC/upsampledDataset.pkl', 'rb') as fin:\n",
    "    dctUps = pickle.load(fin)"
   ]
  },
  {
   "cell_type": "code",
   "execution_count": 5,
   "metadata": {},
   "outputs": [],
   "source": [
    "## count number of timesteps for each session of each subject\n",
    "dctClass = {f'subject_{k+1}':pd.DataFrame(index = range(1, 9), columns = range(0, 4), data = 0) for k in range(8)}\n",
    "for k in dctUps.keys():\n",
    "    dfs = dctUps[k]\n",
    "    for s in dfs['session'].unique():\n",
    "        dfss = dfs[dfs['session'] == s]\n",
    "        aux = dfss['class'].value_counts().sort_index()\n",
    "        dctClass[k].loc[s, aux.index] = aux.values"
   ]
  },
  {
   "cell_type": "code",
   "execution_count": 6,
   "metadata": {},
   "outputs": [],
   "source": [
    "## get the number of instances for each to make the dataset balanced\n",
    "## the first and second more frequents per session and individual are set to two times\n",
    "## the third class in case they are larger. The mode is set as the same of the second \n",
    "## more repeated class\n",
    "dctClassBal = balanceData(dctClass, 2)"
   ]
  },
  {
   "cell_type": "code",
   "execution_count": 7,
   "metadata": {},
   "outputs": [
    {
     "name": "stdout",
     "output_type": "stream",
     "text": [
      "subject_1 session 1 for training\n",
      "subject_1 session 2 for training\n",
      "subject_1 session 3 for training\n",
      "subject_1 session 4 for training\n",
      "subject_1 session 5 for testing\n",
      "subject_1 session 6 for training\n",
      "subject_1 session 7 for training\n",
      "subject_1 session 8 for training\n",
      "subject_2 session 1 for training\n",
      "subject_2 session 2 for testing\n",
      "subject_2 session 3 for training\n",
      "subject_2 session 4 for training\n",
      "subject_2 session 5 for training\n",
      "subject_3 session 1 for training\n",
      "subject_3 session 2 for testing\n",
      "subject_3 session 3 for training\n",
      "subject_4 session 1 for testing\n",
      "subject_4 session 2 for training\n",
      "subject_5 session 1 for testing\n",
      "subject_5 session 2 for training\n",
      "subject_5 session 3 for training\n",
      "subject_6 session 1 for training\n",
      "subject_6 session 2 for testing\n",
      "subject_6 session 3 for training\n",
      "subject_7 session 1 for training\n",
      "subject_7 session 2 for training\n",
      "subject_7 session 3 for testing\n",
      "subject_7 session 4 for training\n",
      "subject_8 session 1 for training\n"
     ]
    }
   ],
   "source": [
    "## randomly select values for the 2 mode classes to match the dctClassBal\n",
    "dctUpsBal = {}\n",
    "\n",
    "testSessions = [(1,5), (2, 2), (3, 2), (4, 1), (5, 1), (6, 2), (7, 3)]\n",
    "dctTest = {}\n",
    "\n",
    "for k in dctUps.keys():\n",
    "    dfk =  dctUps[k]\n",
    "    out2 = []\n",
    "\n",
    "    for s in dfk['session'].unique():\n",
    "\n",
    "        tup = (int(k.split('_')[1]), s)\n",
    "        dfks = dfk[dfk['session'] == s]\n",
    "        \n",
    "        if tup in testSessions:\n",
    "            dctTest[k] = dfks\n",
    "            print(f'{k} session {s} for testing')\n",
    "        else:\n",
    "            print(f'{k} session {s} for training')\n",
    "            nvalAll = dctClass[k].loc[s, :]\n",
    "            nvalBall = dctClassBal[k].loc[s, :]\n",
    "        \n",
    "            out = []\n",
    "            for c in nvalAll.index:\n",
    "                dfksc = dfks[dfks['class'] == c]\n",
    "                dfkscBal = dfks.sample(nvalBall.loc[c]).sort_index()\n",
    "                out.append(dfkscBal)\n",
    "            dfout = pd.concat(out).sort_index()\n",
    "            out2.append(dfout)\n",
    "    dctUpsBal[k] = pd.concat(out2)"
   ]
  },
  {
   "cell_type": "code",
   "execution_count": 8,
   "metadata": {},
   "outputs": [],
   "source": [
    "## combined training a validation set\n",
    "wlength = 25\n",
    "overlapping = 5\n",
    "\n",
    "dctSt = {}\n",
    "for k in dctUpsBal.keys():\n",
    "    df = dctUpsBal[k]\n",
    "    list2 = []\n",
    "    ## loop through sessions\n",
    "    for s in df['session'].unique():\n",
    "        dfs = df[df['session'] == s]\n",
    "        for i in range(0, len(dfs) - overlapping, wlength - overlapping):\n",
    "            dfss = dfs.iloc[i:i + wlength]\n",
    "            dfssfft = pd.DataFrame(index = dfss.index, data = np.abs(np.fft.fft(dfss.iloc[:, :6])))\n",
    "            dfss = pd.concat([dfss, dfssfft], axis = 1)\n",
    "            dfssClass = dfss[['class']]\n",
    "            dfss = dfss.drop(['session', 'time', 'class', 'class_time'], axis = 1)\n",
    "            list1 = []\n",
    "            for ic, c in enumerate(dfss.columns):\n",
    "                dummy = list(dfss[c].quantile(np.arange(0, 1.1, 0.1)))\n",
    "                list1.extend(dummy)\n",
    "            list1.append(int(dfssClass['class'].mode().iloc[0]))\n",
    "            list2.append(list1)\n",
    "    dctSt[k] = pd.DataFrame(data = list2)"
   ]
  },
  {
   "cell_type": "code",
   "execution_count": 9,
   "metadata": {},
   "outputs": [],
   "source": [
    "## Windowed test set. Extra column with the session is added, since later the prediction is done for each session separately.\n",
    "\n",
    "wlength = 25\n",
    "overlapping = 5\n",
    "\n",
    "dctTestSt = {}\n",
    "for k in dctTest.keys():\n",
    "    df = dctTest[k]\n",
    "    list2 = []\n",
    "    ## loop through sessions\n",
    "    for s in df['session'].unique():\n",
    "        dfs = df[df['session'] == s]\n",
    "        for i in range(0, len(dfs) - overlapping, wlength - overlapping):\n",
    "            dfss = dfs.iloc[i:i + wlength]\n",
    "            dfssfft = pd.DataFrame(index = dfss.index, data = np.abs(np.fft.fft(dfss.iloc[:, :6])))\n",
    "            dfss = pd.concat([dfss, dfssfft], axis = 1)\n",
    "            dfssClass = dfss[['class']]\n",
    "            dfss = dfss.drop(['session', 'time', 'class', 'class_time'], axis = 1)\n",
    "            list1 = []\n",
    "            for ic, c in enumerate(dfss.columns):\n",
    "                dummy = list(dfss[c].quantile(np.arange(0, 1.1, 0.1)))\n",
    "                list1.extend(dummy)\n",
    "            list1.append(int(dfssClass['class'].mode().iloc[0]))\n",
    "            list1.append(s)\n",
    "            list2.append(list1)\n",
    "    dctTestSt[k] = pd.DataFrame(data = list2)"
   ]
  },
  {
   "cell_type": "code",
   "execution_count": 10,
   "metadata": {},
   "outputs": [
    {
     "data": {
      "text/html": [
       "<div>\n",
       "<style scoped>\n",
       "    .dataframe tbody tr th:only-of-type {\n",
       "        vertical-align: middle;\n",
       "    }\n",
       "\n",
       "    .dataframe tbody tr th {\n",
       "        vertical-align: top;\n",
       "    }\n",
       "\n",
       "    .dataframe thead th {\n",
       "        text-align: right;\n",
       "    }\n",
       "</style>\n",
       "<table border=\"1\" class=\"dataframe\">\n",
       "  <thead>\n",
       "    <tr style=\"text-align: right;\">\n",
       "      <th></th>\n",
       "      <th>session</th>\n",
       "    </tr>\n",
       "  </thead>\n",
       "  <tbody>\n",
       "    <tr>\n",
       "      <th>1</th>\n",
       "      <td>5</td>\n",
       "    </tr>\n",
       "    <tr>\n",
       "      <th>2</th>\n",
       "      <td>2</td>\n",
       "    </tr>\n",
       "    <tr>\n",
       "      <th>3</th>\n",
       "      <td>2</td>\n",
       "    </tr>\n",
       "    <tr>\n",
       "      <th>4</th>\n",
       "      <td>1</td>\n",
       "    </tr>\n",
       "    <tr>\n",
       "      <th>5</th>\n",
       "      <td>1</td>\n",
       "    </tr>\n",
       "    <tr>\n",
       "      <th>6</th>\n",
       "      <td>2</td>\n",
       "    </tr>\n",
       "    <tr>\n",
       "      <th>7</th>\n",
       "      <td>3</td>\n",
       "    </tr>\n",
       "  </tbody>\n",
       "</table>\n",
       "</div>"
      ],
      "text/plain": [
       "   session\n",
       "1        5\n",
       "2        2\n",
       "3        2\n",
       "4        1\n",
       "5        1\n",
       "6        2\n",
       "7        3"
      ]
     },
     "execution_count": 10,
     "metadata": {},
     "output_type": "execute_result"
    }
   ],
   "source": [
    "dftestSessions = pd.DataFrame(index = np.array(testSessions)[:, 0],\n",
    "                              data = np.array(testSessions)[:, 1],\n",
    "                              columns = ['session'])\n",
    "dftestSessions"
   ]
  },
  {
   "cell_type": "code",
   "execution_count": 11,
   "metadata": {},
   "outputs": [
    {
     "data": {
      "text/html": [
       "<div>\n",
       "<style scoped>\n",
       "    .dataframe tbody tr th:only-of-type {\n",
       "        vertical-align: middle;\n",
       "    }\n",
       "\n",
       "    .dataframe tbody tr th {\n",
       "        vertical-align: top;\n",
       "    }\n",
       "\n",
       "    .dataframe thead th {\n",
       "        text-align: right;\n",
       "    }\n",
       "</style>\n",
       "<table border=\"1\" class=\"dataframe\">\n",
       "  <thead>\n",
       "    <tr style=\"text-align: right;\">\n",
       "      <th></th>\n",
       "      <th>0</th>\n",
       "      <th>1</th>\n",
       "      <th>2</th>\n",
       "      <th>3</th>\n",
       "    </tr>\n",
       "  </thead>\n",
       "  <tbody>\n",
       "    <tr>\n",
       "      <th>subject_1</th>\n",
       "      <td>37384</td>\n",
       "      <td>18868</td>\n",
       "      <td>22316</td>\n",
       "      <td>33880</td>\n",
       "    </tr>\n",
       "    <tr>\n",
       "      <th>subject_2</th>\n",
       "      <td>17464</td>\n",
       "      <td>6832</td>\n",
       "      <td>8528</td>\n",
       "      <td>17464</td>\n",
       "    </tr>\n",
       "    <tr>\n",
       "      <th>subject_3</th>\n",
       "      <td>7092</td>\n",
       "      <td>2112</td>\n",
       "      <td>4352</td>\n",
       "      <td>7092</td>\n",
       "    </tr>\n",
       "    <tr>\n",
       "      <th>subject_4</th>\n",
       "      <td>3620</td>\n",
       "      <td>2048</td>\n",
       "      <td>1700</td>\n",
       "      <td>3620</td>\n",
       "    </tr>\n",
       "    <tr>\n",
       "      <th>subject_5</th>\n",
       "      <td>6736</td>\n",
       "      <td>3440</td>\n",
       "      <td>4800</td>\n",
       "      <td>5836</td>\n",
       "    </tr>\n",
       "    <tr>\n",
       "      <th>subject_6</th>\n",
       "      <td>7680</td>\n",
       "      <td>3676</td>\n",
       "      <td>4904</td>\n",
       "      <td>7680</td>\n",
       "    </tr>\n",
       "    <tr>\n",
       "      <th>subject_7</th>\n",
       "      <td>11896</td>\n",
       "      <td>3008</td>\n",
       "      <td>5948</td>\n",
       "      <td>11896</td>\n",
       "    </tr>\n",
       "    <tr>\n",
       "      <th>subject_8</th>\n",
       "      <td>5288</td>\n",
       "      <td>572</td>\n",
       "      <td>2712</td>\n",
       "      <td>5288</td>\n",
       "    </tr>\n",
       "  </tbody>\n",
       "</table>\n",
       "</div>"
      ],
      "text/plain": [
       "               0      1      2      3\n",
       "subject_1  37384  18868  22316  33880\n",
       "subject_2  17464   6832   8528  17464\n",
       "subject_3   7092   2112   4352   7092\n",
       "subject_4   3620   2048   1700   3620\n",
       "subject_5   6736   3440   4800   5836\n",
       "subject_6   7680   3676   4904   7680\n",
       "subject_7  11896   3008   5948  11896\n",
       "subject_8   5288    572   2712   5288"
      ]
     },
     "execution_count": 11,
     "metadata": {},
     "output_type": "execute_result"
    }
   ],
   "source": [
    "dfsum_bal = []\n",
    "for key in dctClassBal.keys():\n",
    "    dfaux = dctClassBal[key].copy()\n",
    "    \n",
    "    ik = int(key.split('_')[1])\n",
    "    \n",
    "    if ik != 8:\n",
    "        ise = dftestSessions.loc[ik, 'session']\n",
    "        dfaux.loc[ise, :] = [0, 0, 0, 0]\n",
    "\n",
    "    dfsum_bal.append(dfaux.sum())\n",
    "\n",
    "dfsum_bal = pd.DataFrame(index = dctClassBal.keys(), columns = dctClassBal['subject_1'].columns, data = dfsum_bal)\n",
    "dfsum_bal"
   ]
  },
  {
   "attachments": {},
   "cell_type": "markdown",
   "metadata": {},
   "source": [
    "## Different models leaving different subjects out. FFT of features included"
   ]
  },
  {
   "cell_type": "code",
   "execution_count": 28,
   "metadata": {},
   "outputs": [],
   "source": [
    "class Net(nn.Module):\n",
    "  def __init__(self):\n",
    "    super(Net, self).__init__()\n",
    "    self.fc1 = nn.Linear(in_features = 132, out_features = 132*4)\n",
    "    self.bn1 = nn.BatchNorm1d(num_features = 132*4)\n",
    "    self.fc2 = nn.Linear(in_features = 132*4, out_features = 132*8)\n",
    "    self.bn2 = nn.BatchNorm1d(num_features = 132*8)\n",
    "    self.fc3 = nn.Linear(in_features = 132*8, out_features = 132*4)\n",
    "    self.bn3 = nn.BatchNorm1d(num_features = 132*4)\n",
    "    self.fc4 = nn.Linear(in_features = 132*4, out_features = 132*2)\n",
    "    self.bn4 = nn.BatchNorm1d(num_features = 132*2)\n",
    "    self.fc5 = nn.Linear(in_features = 132*2, out_features = 132)\n",
    "    self.bn5 = nn.BatchNorm1d(num_features = 132)\n",
    "    self.fc6 = nn.Linear(in_features = 132, out_features = 66)\n",
    "    self.bn6 = nn.BatchNorm1d(num_features = 66)\n",
    "    self.fc7 = nn.Linear(in_features = 66, out_features = 32)\n",
    "    self.bn7 = nn.BatchNorm1d(num_features = 32)\n",
    "    self.fc8 = nn.Linear(in_features = 32, out_features = 4)\n",
    "    self.dout = nn.Dropout(p=0.4)\n",
    "\n",
    "  def forward(self, x):\n",
    "    x = self.fc1(x)\n",
    "    x = F.relu(x)\n",
    "    x = self.bn1(x)\n",
    "    x = self.dout(x)\n",
    "\n",
    "    x = self.fc2(x)\n",
    "    x = F.relu(x)\n",
    "    x = self.bn2(x)\n",
    "    x = self.dout(x)\n",
    "\n",
    "    x = self.fc3(x)\n",
    "    x = F.relu(x)\n",
    "    x = self.bn3(x)\n",
    "    x = self.dout(x)\n",
    "\n",
    "    x = self.fc4(x)\n",
    "    x = F.relu(x)\n",
    "    x = self.bn4(x)\n",
    "    x = self.dout(x)\n",
    "\n",
    "    x = self.fc5(x)\n",
    "    x = F.relu(x)\n",
    "    x = self.bn5(x)\n",
    "    x = self.dout(x)\n",
    "\n",
    "    x = self.fc6(x)\n",
    "    x = F.relu(x)\n",
    "    x = self.bn6(x)\n",
    "    x = self.dout(x)\n",
    "    \n",
    "    x = self.fc7(x)\n",
    "    x = F.relu(x)\n",
    "    x = self.bn7(x)\n",
    "    x = self.dout(x)\n",
    "\n",
    "    x = self.fc8(x)\n",
    "    x = F.softmax(x, dim = 1)\n",
    "\n",
    "    return x"
   ]
  },
  {
   "cell_type": "code",
   "execution_count": 29,
   "metadata": {},
   "outputs": [],
   "source": [
    "# Creating a wrapper so we have the same interface for all the methods\n",
    "class NetWrapper:\n",
    "  def __init__(self, epochs, lrate, dev, w):\n",
    "    self.model = Net()\n",
    "    self.model = nn.DataParallel(self.model)\n",
    "    if w is not None:\n",
    "      self.loss = nn.CrossEntropyLoss(w)\n",
    "    else:\n",
    "      self.loss = nn.CrossEntropyLoss()\n",
    "      \n",
    "    self.optimizer = torch.optim.Adam(self.model.parameters(), lr=lrate)\n",
    "    self.device = dev\n",
    "    self.model.to(self.device)\n",
    "    self.epochs = epochs\n",
    "    self.history = {'train_loss': [], 'test_loss': []}\n",
    "    self.min_loss = np.inf\n",
    "    self.best_weights = None\n",
    "\n",
    "  def fit(self, X_train, Y_train, X_test, Y_test):\n",
    "    \n",
    "    for t in range(self.epochs):\n",
    "\n",
    "        ########### Training\n",
    "        self.model.train()\n",
    "        self.optimizer.zero_grad()\n",
    "        X_train2 = torch.from_numpy(X_train).to(torch.float32).to(device)\n",
    "        Y_pred = self.model(X_train2).to(torch.float32)\n",
    "        ## compute loss\n",
    "        Y_train2 = torch.from_numpy(Y_train).to(device)\n",
    "        Y_train2 = torch.squeeze(Y_train2, 1)\n",
    "        loss = self.loss(Y_pred, Y_train2)\n",
    "        loss_val = float(loss.cpu().detach().numpy())\n",
    "        ## backward propagation\n",
    "        loss.backward()\n",
    "        self.optimizer.step()\n",
    "        self.history[r'train_loss'].append(loss_val)\n",
    "\n",
    "        ########### Evaluation\n",
    "        self.model.eval()\n",
    "        X_test2 = torch.from_numpy(X_test).to(torch.float32).to(device)\n",
    "        Y_pred = self.model(X_test2).to(torch.float32)\n",
    "        ## compute loss\n",
    "        Y_test2 = torch.from_numpy(Y_test).view(-1).to(device)\n",
    "        loss = self.loss(Y_pred, Y_test2)\n",
    "        loss_val = float(loss.cpu().detach().numpy())\n",
    "        self.history[r'test_loss'].append(loss_val)\n",
    "\n",
    "        if loss < self.min_loss:\n",
    "          self.min_loss = loss\n",
    "          self.best_weights = copy.deepcopy(self.model.state_dict())\n",
    "\n",
    "        if t%2000 == 0:\n",
    "          a = self.history[f'train_loss'][t]\n",
    "          b = self.history[f'test_loss'][t]\n",
    "        \n",
    "          print(f'Epoch {t}/{self.epochs}. Training loss: {a:0.3f} - Validation loss: {b:0.3f}')\n",
    "    \n",
    "    dfhist = pd.DataFrame.from_dict(self.history)\n",
    "\n",
    "    return dfhist, self.min_loss, self.best_weights\n",
    "\n",
    "  def predict(self, X):\n",
    "    X = torch.from_numpy(X).float().to(self.device)\n",
    "    # print(X)\n",
    "    pred = self.model(X)\n",
    "    pred = pred.cpu().detach().numpy()\n",
    "\n",
    "    return pred"
   ]
  },
  {
   "cell_type": "code",
   "execution_count": 15,
   "metadata": {},
   "outputs": [],
   "source": [
    "dfAll = []\n",
    "l = 0\n",
    "for k in dctSt.keys():\n",
    "    aux = dctSt[k]\n",
    "    aux['subject'] = [k]*len(aux)\n",
    "    aux.index = range(l, l + len(aux))\n",
    "    dfAll.append(aux)\n",
    "    l += len(aux)\n",
    "dfAll = pd.concat(dfAll, axis = 0)\n",
    "\n",
    "scaler = StandardScaler()\n",
    "dfX_sc = pd.DataFrame(scaler.fit_transform(dfAll.iloc[:, :-2]))\n",
    "dfX_sc['subject'] = dfAll['subject'].values\n",
    "dfy = dfAll.iloc[:, [-2]]"
   ]
  },
  {
   "cell_type": "code",
   "execution_count": 16,
   "metadata": {},
   "outputs": [
    {
     "name": "stdout",
     "output_type": "stream",
     "text": [
      "************************* Leaving subject_1 out *************************\n",
      "Epoch 0/10000. Training loss: 1.383 - Validation loss: 1.365\n",
      "Epoch 2000/10000. Training loss: 0.807 - Validation loss: 0.988\n",
      "Epoch 4000/10000. Training loss: 0.767 - Validation loss: 0.973\n",
      "Epoch 6000/10000. Training loss: 0.761 - Validation loss: 0.967\n",
      "Epoch 8000/10000. Training loss: 0.758 - Validation loss: 0.968\n",
      "************************* Leaving subject_2 out *************************\n",
      "Epoch 0/10000. Training loss: 1.385 - Validation loss: 1.378\n",
      "Epoch 2000/10000. Training loss: 0.802 - Validation loss: 1.005\n",
      "Epoch 4000/10000. Training loss: 0.774 - Validation loss: 1.005\n",
      "Epoch 6000/10000. Training loss: 0.764 - Validation loss: 1.005\n",
      "Epoch 8000/10000. Training loss: 0.763 - Validation loss: 1.003\n",
      "************************* Leaving subject_3 out *************************\n",
      "Epoch 0/10000. Training loss: 1.404 - Validation loss: 1.398\n",
      "Epoch 2000/10000. Training loss: 0.809 - Validation loss: 0.922\n",
      "Epoch 4000/10000. Training loss: 0.777 - Validation loss: 0.921\n",
      "Epoch 6000/10000. Training loss: 0.767 - Validation loss: 0.926\n",
      "Epoch 8000/10000. Training loss: 0.763 - Validation loss: 0.928\n",
      "************************* Leaving subject_4 out *************************\n",
      "Epoch 0/10000. Training loss: 1.388 - Validation loss: 1.384\n",
      "Epoch 2000/10000. Training loss: 0.813 - Validation loss: 0.919\n",
      "Epoch 4000/10000. Training loss: 0.779 - Validation loss: 0.912\n",
      "Epoch 6000/10000. Training loss: 0.770 - Validation loss: 0.916\n",
      "Epoch 8000/10000. Training loss: 0.766 - Validation loss: 0.901\n",
      "************************* Leaving subject_5 out *************************\n",
      "Epoch 0/10000. Training loss: 1.418 - Validation loss: 1.409\n",
      "Epoch 2000/10000. Training loss: 0.817 - Validation loss: 0.883\n",
      "Epoch 4000/10000. Training loss: 0.781 - Validation loss: 0.881\n",
      "Epoch 6000/10000. Training loss: 0.771 - Validation loss: 0.877\n",
      "Epoch 8000/10000. Training loss: 0.765 - Validation loss: 0.877\n",
      "************************* Leaving subject_6 out *************************\n",
      "Epoch 0/10000. Training loss: 1.427 - Validation loss: 1.422\n",
      "Epoch 2000/10000. Training loss: 0.813 - Validation loss: 0.964\n",
      "Epoch 4000/10000. Training loss: 0.777 - Validation loss: 0.954\n",
      "Epoch 6000/10000. Training loss: 0.769 - Validation loss: 0.965\n",
      "Epoch 8000/10000. Training loss: 0.765 - Validation loss: 0.948\n",
      "************************* Leaving subject_7 out *************************\n",
      "Epoch 0/10000. Training loss: 1.395 - Validation loss: 1.383\n",
      "Epoch 2000/10000. Training loss: 0.807 - Validation loss: 1.055\n",
      "Epoch 4000/10000. Training loss: 0.775 - Validation loss: 1.038\n",
      "Epoch 6000/10000. Training loss: 0.766 - Validation loss: 1.049\n",
      "Epoch 8000/10000. Training loss: 0.763 - Validation loss: 1.035\n",
      "************************* Leaving subject_8 out *************************\n",
      "Epoch 0/10000. Training loss: 1.395 - Validation loss: 1.368\n",
      "Epoch 2000/10000. Training loss: 0.816 - Validation loss: 0.933\n",
      "Epoch 4000/10000. Training loss: 0.776 - Validation loss: 0.931\n",
      "Epoch 6000/10000. Training loss: 0.768 - Validation loss: 0.924\n",
      "Epoch 8000/10000. Training loss: 0.764 - Validation loss: 0.931\n"
     ]
    },
    {
     "data": {
      "image/png": "[encoded data removed]",
      "text/plain": [
       "<Figure size 576x576 with 2 Axes>"
      ]
     },
     "metadata": {
      "needs_background": "light"
     },
     "output_type": "display_data"
    },
    {
     "data": {
      "image/png": "[encoded data removed]",
      "text/plain": [
       "<Figure size 432x288 with 1 Axes>"
      ]
     },
     "metadata": {
      "needs_background": "light"
     },
     "output_type": "display_data"
    },
    {
     "data": {
      "image/png": "[encoded data removed]",
      "text/plain": [
       "<Figure size 576x576 with 2 Axes>"
      ]
     },
     "metadata": {
      "needs_background": "light"
     },
     "output_type": "display_data"
    },
    {
     "data": {
      "image/png": "[encoded data removed]",
      "text/plain": [
       "<Figure size 432x288 with 1 Axes>"
      ]
     },
     "metadata": {
      "needs_background": "light"
     },
     "output_type": "display_data"
    },
    {
     "data": {
      "image/png": "[encoded data removed]",
      "text/plain": [
       "<Figure size 576x576 with 2 Axes>"
      ]
     },
     "metadata": {
      "needs_background": "light"
     },
     "output_type": "display_data"
    },
    {
     "data": {
      "image/png": "[encoded data removed]",
      "text/plain": [
       "<Figure size 432x288 with 1 Axes>"
      ]
     },
     "metadata": {
      "needs_background": "light"
     },
     "output_type": "display_data"
    },
    {
     "data": {
      "image/png": "[encoded data removed]",
      "text/plain": [
       "<Figure size 576x576 with 2 Axes>"
      ]
     },
     "metadata": {
      "needs_background": "light"
     },
     "output_type": "display_data"
    },
    {
     "data": {
      "image/png": "[encoded data removed]",
      "text/plain": [
       "<Figure size 432x288 with 1 Axes>"
      ]
     },
     "metadata": {
      "needs_background": "light"
     },
     "output_type": "display_data"
    },
    {
     "data": {
      "image/png": "[encoded data removed]",
      "text/plain": [
       "<Figure size 576x576 with 2 Axes>"
      ]
     },
     "metadata": {
      "needs_background": "light"
     },
     "output_type": "display_data"
    },
    {
     "data": {
      "image/png": "[encoded data removed]",
      "text/plain": [
       "<Figure size 432x288 with 1 Axes>"
      ]
     },
     "metadata": {
      "needs_background": "light"
     },
     "output_type": "display_data"
    },
    {
     "data": {
      "image/png": "[encoded data removed]",
      "text/plain": [
       "<Figure size 576x576 with 2 Axes>"
      ]
     },
     "metadata": {
      "needs_background": "light"
     },
     "output_type": "display_data"
    },
    {
     "data": {
      "image/png": "[encoded data removed]",
      "text/plain": [
       "<Figure size 432x288 with 1 Axes>"
      ]
     },
     "metadata": {
      "needs_background": "light"
     },
     "output_type": "display_data"
    },
    {
     "data": {
      "image/png": "[encoded data removed]",
      "text/plain": [
       "<Figure size 576x576 with 2 Axes>"
      ]
     },
     "metadata": {
      "needs_background": "light"
     },
     "output_type": "display_data"
    },
    {
     "data": {
      "image/png": "[encoded data removed]",
      "text/plain": [
       "<Figure size 432x288 with 1 Axes>"
      ]
     },
     "metadata": {
      "needs_background": "light"
     },
     "output_type": "display_data"
    },
    {
     "data": {
      "image/png": "[encoded data removed]",
      "text/plain": [
       "<Figure size 576x576 with 2 Axes>"
      ]
     },
     "metadata": {
      "needs_background": "light"
     },
     "output_type": "display_data"
    },
    {
     "data": {
      "image/png": "[encoded data removed]",
      "text/plain": [
       "<Figure size 432x288 with 1 Axes>"
      ]
     },
     "metadata": {
      "needs_background": "light"
     },
     "output_type": "display_data"
    }
   ],
   "source": [
    "torch.cuda.empty_cache()\n",
    "device = torch.device(\"cuda\" if torch.cuda.is_available() else \"cpu\")\n",
    "learning_rate = 1e-4\n",
    "\n",
    "list_dfhist, list_minLoss, list_bestModel = [], [], []\n",
    "\n",
    "for i in range(1, 9):\n",
    "\n",
    "    keyval = f'subject_{i}'\n",
    "    print(f'************************* Leaving {keyval} out *************************')\n",
    "\n",
    "    dfsum_bal2 = dfsum_bal.drop([keyval], axis = 0)\n",
    "    weights_bal = torch.from_numpy((dfsum_bal2.sum()/dfsum_bal2.sum().sum()).values).to(torch.float32)\n",
    "\n",
    "    dfXtr = dfX_sc[dfX_sc['subject'] != keyval]\n",
    "    dfytr = dfy.loc[dfXtr.index, :]\n",
    "\n",
    "    dfXvl = dfX_sc[dfX_sc['subject'] == keyval]\n",
    "    dfyvl = dfy.loc[dfXvl.index, :]\n",
    "\n",
    "    Xtr = dfXtr.iloc[:, :-1].values.astype(float)\n",
    "    ytr = dfytr.values\n",
    "\n",
    "    Xvl = dfXvl.iloc[:, :-1].values.astype(float)\n",
    "    yvl = dfyvl.values\n",
    "\n",
    "    net = NetWrapper(10_000, learning_rate, device, weights_bal.to(device))\n",
    "    dfhist, minLoss, bestModel = net.fit(Xtr, ytr, Xvl, yvl)\n",
    "    list_dfhist.append(dfhist)\n",
    "    list_minLoss.append(minLoss)\n",
    "    list_bestModel.append(bestModel)\n",
    "\n",
    "    pred = net.predict(Xvl).argmax(axis = 1)\n",
    "    m = confusion_matrix(yvl, pred)\n",
    "    disp = ConfusionMatrixDisplay(confusion_matrix=m)\n",
    "    fig, ax = plt.subplots(figsize = (8, 8))\n",
    "    disp.plot(ax = ax,  cmap = plt.cm.Blues)\n",
    "    ax.set_title(f\"F1 score leaving {keyval} out: {f1_score(pred, yvl, average='macro'):0.3f}\")\n",
    "\n",
    "    fig, ax = plt.subplots(figsize = (6, 4))\n",
    "    dfhist.plot(ax = ax)"
   ]
  },
  {
   "cell_type": "code",
   "execution_count": 17,
   "metadata": {},
   "outputs": [],
   "source": [
    "dfTest = []\n",
    "i = 0\n",
    "for k in dctTestSt.keys():\n",
    "    aux = dctTestSt[k]\n",
    "    aux.index = range(i, i + len(aux))\n",
    "    i += len(aux)\n",
    "    dfTest.append(aux)\n",
    "dfTest = pd.concat(dfTest, axis = 0)\n",
    "\n",
    "Xtest = dfTest.iloc[:, :-2]\n",
    "Xtest_sc = scaler.transform(Xtest)\n",
    "ytest = dfTest.iloc[:, -2].values"
   ]
  },
  {
   "cell_type": "code",
   "execution_count": 26,
   "metadata": {},
   "outputs": [],
   "source": [
    "with open('scaler_model09.pkl', 'wb') as fout:\n",
    "    pickle.dump(scaler, fout)"
   ]
  },
  {
   "cell_type": "code",
   "execution_count": 25,
   "metadata": {},
   "outputs": [],
   "source": [
    "# # models = []\n",
    "# for imod, mod in enumerate(list_bestModel):\n",
    "#     # create a new instance of the model\n",
    "#     model = Net()\n",
    "#     # load saved weights\n",
    "#     model.load_state_dict(mod)\n",
    "#     wrapper = NetWrapper(epochs=0, lrate=0, dev=device, w=None)\n",
    "#     wrapper.model = model.to(device)\n",
    "#     # put the model in evaluation mode\n",
    "#     pred = wrapper.predict(Xtest_sc).argmax(axis = 1)\n",
    "    \n",
    "#     m = confusion_matrix(ytest, pred)\n",
    "#     disp = ConfusionMatrixDisplay(confusion_matrix=m)\n",
    "#     fig, ax = plt.subplots(figsize = (8, 8))\n",
    "#     disp.plot(ax = ax,  cmap = plt.cm.Blues)\n",
    "#     ax.set_title(f\"F1 score leaving subject {imod + 1} out: {f1_score(pred, ytest, average='macro'):0.3f} - Test set\")"
   ]
  },
  {
   "cell_type": "code",
   "execution_count": 36,
   "metadata": {},
   "outputs": [
    {
     "data": {
      "text/plain": [
       "Text(0.5, 1.0, 'F1 score with averaged probs: 0.742 - Test set')"
      ]
     },
     "execution_count": 36,
     "metadata": {},
     "output_type": "execute_result"
    },
    {
     "data": {
      "image/png": "[encoded data removed]",
      "text/plain": [
       "<Figure size 576x576 with 2 Axes>"
      ]
     },
     "metadata": {
      "needs_background": "light"
     },
     "output_type": "display_data"
    }
   ],
   "source": [
    "# average probabilities\n",
    "device = torch.device(\"cuda\" if torch.cuda.is_available() else \"cpu\")\n",
    "pin = Path(r'/home/tacuevas/github/ECE542_NCSU_projC')\n",
    "list_preds = []\n",
    "list_bestModel = [torch.load(pin/x) for x in sorted([y for y in os.listdir(pin) if y.startswith('model09_r1_subject')])]\n",
    "for imod, mod in enumerate(list_bestModel):\n",
    "    # create a new instance of the model\n",
    "    model = nn.DataParallel(Net())\n",
    "    # load saved weights\n",
    "    model.load_state_dict(mod)\n",
    "    wrapper = NetWrapper(epochs=0, lrate=0, dev=device, w=None)\n",
    "    wrapper.model = model.to(device)\n",
    "    # put the model in evaluation mode\n",
    "    pred = wrapper.predict(Xtest_sc)\n",
    "    list_preds.append(pred)\n",
    "arr_preds = np.array(list_preds)\n",
    "\n",
    "arr_preds_mean = np.mean(arr_preds, axis = 0)\n",
    "preds_mean = np.argmax(arr_preds_mean, axis = 1)\n",
    "\n",
    "m = confusion_matrix(ytest, preds_mean)\n",
    "disp = ConfusionMatrixDisplay(confusion_matrix=m)\n",
    "fig, ax = plt.subplots(figsize = (8, 8))\n",
    "disp.plot(ax = ax,  cmap = plt.cm.Blues)\n",
    "ax.set_title(f\"F1 score with averaged probs: {f1_score(preds_mean, ytest, average='macro'):0.3f} - Test set\")"
   ]
  },
  {
   "cell_type": "code",
   "execution_count": 131,
   "metadata": {},
   "outputs": [],
   "source": [
    "# for imod, mod in enumerate(list_bestModel):\n",
    "#     torch.save(mod, f'model09_subject_{imod+1}out_1e4epochs.pt')"
   ]
  },
  {
   "cell_type": "code",
   "execution_count": 37,
   "metadata": {},
   "outputs": [
    {
     "name": "stdout",
     "output_type": "stream",
     "text": [
      "subject_1\n",
      "5\n",
      "subject_2\n",
      "2\n",
      "subject_3\n",
      "2\n",
      "subject_4\n",
      "1\n",
      "subject_5\n",
      "1\n",
      "subject_6\n",
      "2\n",
      "subject_7\n",
      "3\n"
     ]
    }
   ],
   "source": [
    "# Predict session by session to then unwindow the predictions\n",
    "device = torch.device(\"cuda\" if torch.cuda.is_available() else \"cpu\")\n",
    "pin = Path(r'/home/tacuevas/github/ECE542_NCSU_projC')\n",
    "list_bestModel = [torch.load(pin/x) for x in sorted([y for y in os.listdir(pin) if y.startswith('model09_subject')])]\n",
    "\n",
    "dctPredClass = {}\n",
    "dctPredProbs = {}\n",
    "\n",
    "for k in dctTestSt.keys():\n",
    "    print(k)\n",
    "    dfTestK = dctTestSt[k]\n",
    "\n",
    "    dfTestFullK = dctTest[k]\n",
    "\n",
    "    for s in dfTestK.iloc[:, -1].unique():\n",
    "        print(s)\n",
    "        dfTestKs = dfTestK[dfTestK[133] == s]\n",
    "\n",
    "        dfTestFullK = dfTestFullK[dfTestFullK['session'] == s]\n",
    "\n",
    "        list_preds = []\n",
    "        for imod, mod in enumerate(list_bestModel):\n",
    "            model = Net()\n",
    "            model.load_state_dict(mod)\n",
    "            wrapper = NetWrapper(epochs=0, lrate=0, dev=device, w=None)\n",
    "            wrapper.model = model.to(device)\n",
    "            pred = wrapper.predict(scaler.transform(dfTestKs.iloc[:, :-2]))\n",
    "            list_preds.append(pred)\n",
    "        arr_preds = np.array(list_preds)\n",
    "        mean_arr_preds = np.mean(arr_preds, axis = 0)\n",
    "        predictedClass = np.argmax(mean_arr_preds, axis = 1)\n",
    "        predictedProbs = np.max(mean_arr_preds, axis = 1)\n",
    "\n",
    "        dctPredClass[f'{k}_session_{s}'] = predictedClass\n",
    "        dctPredProbs[f'{k}_session_{s}'] = predictedProbs"
   ]
  },
  {
   "cell_type": "code",
   "execution_count": 38,
   "metadata": {},
   "outputs": [
    {
     "name": "stdout",
     "output_type": "stream",
     "text": [
      "subject_1_session_5\n",
      "5\n",
      "subject_2_session_2\n",
      "2\n",
      "subject_3_session_2\n",
      "2\n",
      "subject_4_session_1\n",
      "1\n",
      "subject_5_session_1\n",
      "1\n",
      "subject_6_session_2\n",
      "2\n",
      "subject_7_session_3\n",
      "3\n"
     ]
    }
   ],
   "source": [
    "wlength = 75\n",
    "overlapping = 50\n",
    "aux = wlength - overlapping\n",
    "\n",
    "arrClassAll = []\n",
    "trueClassAll = []\n",
    "\n",
    "for k in dctPredProbs.keys():\n",
    "    print(k)\n",
    "    subj = k.split('_sess')[0]\n",
    "    sess = int(k.split('_')[-1])\n",
    "\n",
    "    dfTestFullK = dctTest[subj]\n",
    "\n",
    "    for sess in dfTestFullK['session'].unique():\n",
    "        print(sess)\n",
    "        dfTestFullKs = dfTestFullK[dfTestFullK['session'] == sess]\n",
    "        \n",
    "        #dfAuxProbs = pd.DataFrame(index = range(len(dfTestFullK)), columns = range(len(predictedClass)), data = -1)\n",
    "        #dfAuxClass = dfAuxProbs.copy()\n",
    "        arrProbs = np.full((len(dfTestFullK), len(predictedClass)), np.nan)\n",
    "        arrClass = arrProbs.copy()\n",
    "        \n",
    "        for icol in range(arrProbs.shape[1]):\n",
    "            if icol != arrProbs.shape[1] - 1:\n",
    "                arrProbs[icol*aux: icol*aux + wlength, icol] = predictedProbs[icol]\n",
    "                arrClass[icol*aux: icol*aux + wlength, icol] = predictedClass[icol]\n",
    "            else:\n",
    "                arrProbs[icol*aux:, icol] = [predictedProbs[icol]] * len(arrProbs[icol*aux:, -1])\n",
    "                arrClass[icol*aux:, icol] = [predictedClass[icol]] * len(arrClass[icol*aux:, -1])\n",
    "\n",
    "        colMaxProb = np.nanargmax(arrProbs, axis = 1)\n",
    "        classMaxProb = [arrClass[i, colMaxProb[i]] for i in range(len(arrClass))]#arrClass[np.arange(len(dfTestFullKs), colMaxProb)]\n",
    "        arrClassAll.extend(classMaxProb)"
   ]
  },
  {
   "cell_type": "code",
   "execution_count": 39,
   "metadata": {},
   "outputs": [
    {
     "data": {
      "text/plain": [
       "356323"
      ]
     },
     "execution_count": 39,
     "metadata": {},
     "output_type": "execute_result"
    }
   ],
   "source": [
    "len(arrClassAll)"
   ]
  },
  {
   "cell_type": "code",
   "execution_count": 40,
   "metadata": {},
   "outputs": [
    {
     "name": "stdout",
     "output_type": "stream",
     "text": [
      "356323\n"
     ]
    }
   ],
   "source": [
    "dfTestAll = []\n",
    "for k in dctTest.keys():\n",
    "    aux = dctTest[k]\n",
    "    aux.index = range(i, i + len(aux))\n",
    "    i += len(aux)\n",
    "    dfTestAll.append(aux)\n",
    "dfTestAll = pd.concat(dfTestAll, axis = 0)\n",
    "print(len(dfTestAll))"
   ]
  },
  {
   "cell_type": "code",
   "execution_count": 41,
   "metadata": {},
   "outputs": [
    {
     "data": {
      "text/html": [
       "<div>\n",
       "<style scoped>\n",
       "    .dataframe tbody tr th:only-of-type {\n",
       "        vertical-align: middle;\n",
       "    }\n",
       "\n",
       "    .dataframe tbody tr th {\n",
       "        vertical-align: top;\n",
       "    }\n",
       "\n",
       "    .dataframe thead th {\n",
       "        text-align: right;\n",
       "    }\n",
       "</style>\n",
       "<table border=\"1\" class=\"dataframe\">\n",
       "  <thead>\n",
       "    <tr style=\"text-align: right;\">\n",
       "      <th></th>\n",
       "      <th>accx</th>\n",
       "      <th>accy</th>\n",
       "      <th>accz</th>\n",
       "      <th>gyrox</th>\n",
       "      <th>gyroy</th>\n",
       "      <th>gyroz</th>\n",
       "      <th>session</th>\n",
       "      <th>time</th>\n",
       "      <th>class</th>\n",
       "      <th>class_time</th>\n",
       "    </tr>\n",
       "  </thead>\n",
       "  <tbody>\n",
       "    <tr>\n",
       "      <th>17817</th>\n",
       "      <td>1.883375</td>\n",
       "      <td>9.517874</td>\n",
       "      <td>0.350562</td>\n",
       "      <td>0.012344</td>\n",
       "      <td>-0.003333</td>\n",
       "      <td>-0.006996</td>\n",
       "      <td>5</td>\n",
       "      <td>0.000</td>\n",
       "      <td>0</td>\n",
       "      <td>0.02</td>\n",
       "    </tr>\n",
       "    <tr>\n",
       "      <th>17818</th>\n",
       "      <td>2.003800</td>\n",
       "      <td>9.582067</td>\n",
       "      <td>0.313800</td>\n",
       "      <td>-0.007402</td>\n",
       "      <td>0.002363</td>\n",
       "      <td>-0.002316</td>\n",
       "      <td>5</td>\n",
       "      <td>0.025</td>\n",
       "      <td>0</td>\n",
       "      <td>0.02</td>\n",
       "    </tr>\n",
       "    <tr>\n",
       "      <th>17819</th>\n",
       "      <td>1.915998</td>\n",
       "      <td>9.582006</td>\n",
       "      <td>0.340000</td>\n",
       "      <td>-0.001517</td>\n",
       "      <td>-0.007236</td>\n",
       "      <td>-0.006531</td>\n",
       "      <td>5</td>\n",
       "      <td>0.050</td>\n",
       "      <td>0</td>\n",
       "      <td>0.02</td>\n",
       "    </tr>\n",
       "    <tr>\n",
       "      <th>17820</th>\n",
       "      <td>1.990245</td>\n",
       "      <td>9.482698</td>\n",
       "      <td>0.369264</td>\n",
       "      <td>-0.011702</td>\n",
       "      <td>0.000000</td>\n",
       "      <td>-0.005981</td>\n",
       "      <td>5</td>\n",
       "      <td>0.075</td>\n",
       "      <td>0</td>\n",
       "      <td>0.12</td>\n",
       "    </tr>\n",
       "    <tr>\n",
       "      <th>17821</th>\n",
       "      <td>2.028900</td>\n",
       "      <td>9.744136</td>\n",
       "      <td>0.359267</td>\n",
       "      <td>-0.021669</td>\n",
       "      <td>-0.009513</td>\n",
       "      <td>-0.007014</td>\n",
       "      <td>5</td>\n",
       "      <td>0.100</td>\n",
       "      <td>0</td>\n",
       "      <td>0.12</td>\n",
       "    </tr>\n",
       "    <tr>\n",
       "      <th>...</th>\n",
       "      <td>...</td>\n",
       "      <td>...</td>\n",
       "      <td>...</td>\n",
       "      <td>...</td>\n",
       "      <td>...</td>\n",
       "      <td>...</td>\n",
       "      <td>...</td>\n",
       "      <td>...</td>\n",
       "      <td>...</td>\n",
       "      <td>...</td>\n",
       "    </tr>\n",
       "    <tr>\n",
       "      <th>374135</th>\n",
       "      <td>0.616364</td>\n",
       "      <td>9.143636</td>\n",
       "      <td>3.423409</td>\n",
       "      <td>0.000120</td>\n",
       "      <td>0.006974</td>\n",
       "      <td>0.005248</td>\n",
       "      <td>3</td>\n",
       "      <td>1115.900</td>\n",
       "      <td>0</td>\n",
       "      <td>1115.92</td>\n",
       "    </tr>\n",
       "    <tr>\n",
       "      <th>374136</th>\n",
       "      <td>0.601402</td>\n",
       "      <td>9.160000</td>\n",
       "      <td>3.477195</td>\n",
       "      <td>0.002322</td>\n",
       "      <td>0.007574</td>\n",
       "      <td>0.008485</td>\n",
       "      <td>3</td>\n",
       "      <td>1115.925</td>\n",
       "      <td>0</td>\n",
       "      <td>1115.92</td>\n",
       "    </tr>\n",
       "    <tr>\n",
       "      <th>374137</th>\n",
       "      <td>0.551165</td>\n",
       "      <td>9.193496</td>\n",
       "      <td>3.477669</td>\n",
       "      <td>0.006486</td>\n",
       "      <td>0.000331</td>\n",
       "      <td>0.003153</td>\n",
       "      <td>3</td>\n",
       "      <td>1115.950</td>\n",
       "      <td>0</td>\n",
       "      <td>1115.92</td>\n",
       "    </tr>\n",
       "    <tr>\n",
       "      <th>374138</th>\n",
       "      <td>0.548438</td>\n",
       "      <td>9.160000</td>\n",
       "      <td>3.440781</td>\n",
       "      <td>-0.001079</td>\n",
       "      <td>-0.005426</td>\n",
       "      <td>-0.000032</td>\n",
       "      <td>3</td>\n",
       "      <td>1115.975</td>\n",
       "      <td>0</td>\n",
       "      <td>1115.92</td>\n",
       "    </tr>\n",
       "    <tr>\n",
       "      <th>374139</th>\n",
       "      <td>0.520574</td>\n",
       "      <td>9.150574</td>\n",
       "      <td>3.440574</td>\n",
       "      <td>0.000000</td>\n",
       "      <td>-0.001111</td>\n",
       "      <td>-0.000327</td>\n",
       "      <td>3</td>\n",
       "      <td>1116.000</td>\n",
       "      <td>0</td>\n",
       "      <td>1115.92</td>\n",
       "    </tr>\n",
       "  </tbody>\n",
       "</table>\n",
       "<p>356323 rows × 10 columns</p>\n",
       "</div>"
      ],
      "text/plain": [
       "            accx      accy      accz     gyrox     gyroy     gyroz  session  \\\n",
       "17817   1.883375  9.517874  0.350562  0.012344 -0.003333 -0.006996        5   \n",
       "17818   2.003800  9.582067  0.313800 -0.007402  0.002363 -0.002316        5   \n",
       "17819   1.915998  9.582006  0.340000 -0.001517 -0.007236 -0.006531        5   \n",
       "17820   1.990245  9.482698  0.369264 -0.011702  0.000000 -0.005981        5   \n",
       "17821   2.028900  9.744136  0.359267 -0.021669 -0.009513 -0.007014        5   \n",
       "...          ...       ...       ...       ...       ...       ...      ...   \n",
       "374135  0.616364  9.143636  3.423409  0.000120  0.006974  0.005248        3   \n",
       "374136  0.601402  9.160000  3.477195  0.002322  0.007574  0.008485        3   \n",
       "374137  0.551165  9.193496  3.477669  0.006486  0.000331  0.003153        3   \n",
       "374138  0.548438  9.160000  3.440781 -0.001079 -0.005426 -0.000032        3   \n",
       "374139  0.520574  9.150574  3.440574  0.000000 -0.001111 -0.000327        3   \n",
       "\n",
       "            time  class  class_time  \n",
       "17817      0.000      0        0.02  \n",
       "17818      0.025      0        0.02  \n",
       "17819      0.050      0        0.02  \n",
       "17820      0.075      0        0.12  \n",
       "17821      0.100      0        0.12  \n",
       "...          ...    ...         ...  \n",
       "374135  1115.900      0     1115.92  \n",
       "374136  1115.925      0     1115.92  \n",
       "374137  1115.950      0     1115.92  \n",
       "374138  1115.975      0     1115.92  \n",
       "374139  1116.000      0     1115.92  \n",
       "\n",
       "[356323 rows x 10 columns]"
      ]
     },
     "execution_count": 41,
     "metadata": {},
     "output_type": "execute_result"
    }
   ],
   "source": [
    "dfTestAll"
   ]
  },
  {
   "cell_type": "code",
   "execution_count": 42,
   "metadata": {},
   "outputs": [
    {
     "data": {
      "text/plain": [
       "Text(0.5, 1.0, 'F1 score with averaged probs: 0.272 - Test set')"
      ]
     },
     "execution_count": 42,
     "metadata": {},
     "output_type": "execute_result"
    },
    {
     "data": {
      "image/png": "[encoded data removed]",
      "text/plain": [
       "<Figure size 576x576 with 2 Axes>"
      ]
     },
     "metadata": {
      "needs_background": "light"
     },
     "output_type": "display_data"
    }
   ],
   "source": [
    "m = confusion_matrix(dfTestAll['class'].values, arrClassAll)\n",
    "disp = ConfusionMatrixDisplay(confusion_matrix=m)\n",
    "fig, ax = plt.subplots(figsize = (8, 8))\n",
    "disp.plot(ax = ax,  cmap = plt.cm.Blues)\n",
    "ax.set_title(f\"F1 score with averaged probs: {f1_score(arrClassAll, dfTestAll['class'].values, average='macro'):0.3f} - Test set\")"
   ]
  },
  {
   "cell_type": "code",
   "execution_count": 36,
   "metadata": {},
   "outputs": [],
   "source": [
    "# arr_preds_max = np.max(arr_preds, axis = 0)\n",
    "# preds_max = np.argmax(arr_preds_max, axis = 1)\n",
    "# m = confusion_matrix(ytest, preds_mean)\n",
    "# disp = ConfusionMatrixDisplay(confusion_matrix=m)\n",
    "# fig, ax = plt.subplots(figsize = (8, 8))\n",
    "# disp.plot(ax = ax,  cmap = plt.cm.Blues)\n",
    "# ax.set_title(f\"F1 score taking max prob: {f1_score(preds_max, ytest, average='macro'):0.3f} - Test set\")"
   ]
  },
  {
   "attachments": {},
   "cell_type": "markdown",
   "metadata": {},
   "source": [
    "### Predict for the grading test set"
   ]
  },
  {
   "cell_type": "code",
   "execution_count": 7,
   "metadata": {},
   "outputs": [],
   "source": [
    "def read_data_testing(pathin):\n",
    "    ''''''\n",
    "    # Define the header names for the 'x' CSV files\n",
    "    x_header = [\"accx\", \"accy\", \"accz\", \"gyrox\", \"gyroy\", \"gyroz\"]\n",
    "    # Define the header names for the 'x_time' CSV files\n",
    "    x_time_header = [\"seconds\"]\n",
    "\n",
    "    # Define the header names for the 'y' CSV files\n",
    "    # y_header = [\"class\"]\n",
    "\n",
    "    # Define the header names for the 'y_time' CSV files\n",
    "    y_time_header = [\"seconds\"]\n",
    "\n",
    "    # Create an empty list to store the dataframes\n",
    "    dct = {}\n",
    "\n",
    "    filesAll = [x for x in os.listdir(pathin) if x.endswith('.csv')]\n",
    "\n",
    "    nSubjects = 4\n",
    "\n",
    "    for i in range(9, 13):\n",
    "        files = sorted([x for x in filesAll if x.startswith(f'subject_{i:03d}')])\n",
    "        nSessions = int(len(files)/3) ## 4 files per session\n",
    "        \n",
    "        xdataAll = []\n",
    "        ydataAll = []\n",
    "\n",
    "        for j in range(nSessions):\n",
    "            xdata = pd.read_csv(pathin/f'subject_{i:03d}_{j+1:02d}__x.csv', header = None, names = x_header)\n",
    "            xdata['session'] = [j+1]*len(xdata)\n",
    "            xtime = pd.read_csv(pathin/f'subject_{i:03d}_{j+1:02d}__x_time.csv', header = None, names = x_time_header)\n",
    "            xdata['time'] = xtime['seconds'].values\n",
    "            xdataAll.append(xdata)\n",
    "\n",
    "            # ydata = pd.read_csv(pathin/f'subject_{i+1:03d}_{j+1:02d}__y.csv', header = None, names = y_header)\n",
    "            # ydata['session'] = [j+1]*len(ydata)\n",
    "            ytime = pd.read_csv(pathin/f'subject_{i:03d}_{j+1:02d}__y_time.csv', header = None, names = y_time_header)\n",
    "            # ydata['time'] = ytime['seconds'].values\n",
    "            ydataAll.append(ytime)\n",
    "\n",
    "        dfx = pd.concat(xdataAll)\n",
    "        dfx.index = range(len(dfx))\n",
    "        dfy = pd.concat(ydataAll)\n",
    "        dfy.index = range(len(dfy))\n",
    "\n",
    "        dct[f'subject_{i}_x'] = dfx\n",
    "        dct[f'subject_{i}_y'] = dfy\n",
    "    return dct"
   ]
  },
  {
   "cell_type": "code",
   "execution_count": 8,
   "metadata": {},
   "outputs": [],
   "source": [
    "## read data as a dictionary with each subject as a different key\n",
    "## the sessions are included as a column in each dataframe\n",
    "pathTest = Path(r'./TestData')\n",
    "dctTestData = read_data_testing(pathTest)"
   ]
  },
  {
   "cell_type": "code",
   "execution_count": 9,
   "metadata": {},
   "outputs": [],
   "source": [
    "## duplicate upsampled dictionary but with flags for the windows of each class in each session\n",
    "## for each subject\n",
    "\n",
    "wlength = 75\n",
    "overlapping = 50\n",
    "\n",
    "dctGradingSt = {}\n",
    "for k in dctTestData.keys():\n",
    "\n",
    "    if k.endswith('_x'):\n",
    "        df = dctTestData[k]\n",
    "        list2 = []\n",
    "        ## loop through sessions\n",
    "        for s in df['session'].unique():\n",
    "            dfs = df[df['session'] == s]\n",
    "            for i in range(0, len(dfs) - overlapping, wlength - overlapping):\n",
    "                dfss = dfs.iloc[i:i + wlength]\n",
    "                dfssfft = pd.DataFrame(index = dfss.index, data = np.abs(np.fft.fft(dfss.iloc[:, :6])))\n",
    "                dfss = pd.concat([dfss, dfssfft], axis = 1)\n",
    "                # dfssClass = dfss[['class']]\n",
    "                dfss = dfss.drop(['session', 'time'], axis = 1)\n",
    "                list1 = []\n",
    "                for ic, c in enumerate(dfss.columns):\n",
    "                    dummy = list(dfss[c].quantile(np.arange(0, 1.1, 0.1)))\n",
    "                    list1.extend(dummy)\n",
    "                list2.append(list1)\n",
    "        dctGradingSt[k] = pd.DataFrame(data = list2)"
   ]
  },
  {
   "cell_type": "code",
   "execution_count": 10,
   "metadata": {},
   "outputs": [
    {
     "ename": "NameError",
     "evalue": "name 'scaler' is not defined",
     "output_type": "error",
     "traceback": [
      "\u001b[0;31m---------------------------------------------------------------------------\u001b[0m",
      "\u001b[0;31mNameError\u001b[0m                                 Traceback (most recent call last)",
      "Cell \u001b[0;32mIn[10], line 10\u001b[0m\n\u001b[1;32m      7\u001b[0m     dfGrading\u001b[39m.\u001b[39mappend(aux)\n\u001b[1;32m      8\u001b[0m dfGrading \u001b[39m=\u001b[39m pd\u001b[39m.\u001b[39mconcat(dfGrading, axis \u001b[39m=\u001b[39m \u001b[39m0\u001b[39m)\n\u001b[0;32m---> 10\u001b[0m Xgrad_sc \u001b[39m=\u001b[39m scaler\u001b[39m.\u001b[39mtransform(dfGrading)\n",
      "\u001b[0;31mNameError\u001b[0m: name 'scaler' is not defined"
     ]
    }
   ],
   "source": [
    "dfGrading = []\n",
    "i = 0\n",
    "for k in dctGradingSt.keys():\n",
    "    aux = dctGradingSt[k]\n",
    "    aux.index = range(i, i + len(aux))\n",
    "    i += len(aux)\n",
    "    dfGrading.append(aux)\n",
    "dfGrading = pd.concat(dfGrading, axis = 0)\n",
    "\n",
    "Xgrad_sc = scaler.transform(dfGrading)"
   ]
  },
  {
   "cell_type": "code",
   "execution_count": 116,
   "metadata": {},
   "outputs": [],
   "source": [
    "# average probabilities\n",
    "list_preds = []\n",
    "for imod, mod in enumerate(list_bestModel):\n",
    "    # create a new instance of the model\n",
    "    model = Net()\n",
    "    # load saved weights\n",
    "    model.load_state_dict(mod)\n",
    "    wrapper = NetWrapper(epochs=0, lrate=0, dev=device, w=None)\n",
    "    wrapper.model = model.to(device)\n",
    "    # put the model in evaluation mode\n",
    "    pred = wrapper.predict(Xgrad_sc)\n",
    "    list_preds.append(pred)\n",
    "arr_preds = np.array(list_preds)\n",
    "\n",
    "arr_preds_mean = np.mean(arr_preds, axis = 0)\n",
    "preds_mean = np.argmax(arr_preds_mean, axis = 1)\n",
    "preds_mean_probs = np.max(arr_preds_mean, axis = 1)"
   ]
  },
  {
   "cell_type": "code",
   "execution_count": 117,
   "metadata": {},
   "outputs": [
    {
     "data": {
      "text/plain": [
       "[<matplotlib.lines.Line2D at 0x7f39440cb3d0>]"
      ]
     },
     "execution_count": 117,
     "metadata": {},
     "output_type": "execute_result"
    },
    {
     "data": {
      "image/png": "[encoded data removed]",
      "text/plain": [
       "<Figure size 640x480 with 1 Axes>"
      ]
     },
     "metadata": {},
     "output_type": "display_data"
    }
   ],
   "source": [
    "plt.plot(preds_mean, '.')"
   ]
  },
  {
   "cell_type": "code",
   "execution_count": 118,
   "metadata": {},
   "outputs": [
    {
     "data": {
      "text/plain": [
       "7360"
      ]
     },
     "execution_count": 118,
     "metadata": {},
     "output_type": "execute_result"
    }
   ],
   "source": [
    "dctTestData"
   ]
  },
  {
   "cell_type": "code",
   "execution_count": 126,
   "metadata": {},
   "outputs": [],
   "source": [
    "dfGradingAll = []\n",
    "i = 0\n",
    "for k in dctTestData.keys():\n",
    "\n",
    "    if k.endswith('_x'):\n",
    "        aux = dctTestData[k].copy()\n",
    "        aux.index = range(i, i + len(aux))\n",
    "        i += len(aux)\n",
    "        dfGradingAll.append(aux)\n",
    "dfGradingAll = pd.concat(dfGradingAll, axis = 0)"
   ]
  },
  {
   "cell_type": "code",
   "execution_count": 127,
   "metadata": {},
   "outputs": [
    {
     "data": {
      "text/html": [
       "<div>\n",
       "<style scoped>\n",
       "    .dataframe tbody tr th:only-of-type {\n",
       "        vertical-align: middle;\n",
       "    }\n",
       "\n",
       "    .dataframe tbody tr th {\n",
       "        vertical-align: top;\n",
       "    }\n",
       "\n",
       "    .dataframe thead th {\n",
       "        text-align: right;\n",
       "    }\n",
       "</style>\n",
       "<table border=\"1\" class=\"dataframe\">\n",
       "  <thead>\n",
       "    <tr style=\"text-align: right;\">\n",
       "      <th></th>\n",
       "      <th>accx</th>\n",
       "      <th>accy</th>\n",
       "      <th>accz</th>\n",
       "      <th>gyrox</th>\n",
       "      <th>gyroy</th>\n",
       "      <th>gyroz</th>\n",
       "      <th>session</th>\n",
       "      <th>time</th>\n",
       "    </tr>\n",
       "  </thead>\n",
       "  <tbody>\n",
       "    <tr>\n",
       "      <th>0</th>\n",
       "      <td>0.396845</td>\n",
       "      <td>8.710000</td>\n",
       "      <td>-4.476044</td>\n",
       "      <td>0.001111</td>\n",
       "      <td>-0.008889</td>\n",
       "      <td>0.004137</td>\n",
       "      <td>1</td>\n",
       "      <td>0.000</td>\n",
       "    </tr>\n",
       "    <tr>\n",
       "      <th>1</th>\n",
       "      <td>0.413795</td>\n",
       "      <td>8.706898</td>\n",
       "      <td>-4.456205</td>\n",
       "      <td>0.000000</td>\n",
       "      <td>-0.002838</td>\n",
       "      <td>0.007162</td>\n",
       "      <td>1</td>\n",
       "      <td>0.025</td>\n",
       "    </tr>\n",
       "    <tr>\n",
       "      <th>2</th>\n",
       "      <td>0.423914</td>\n",
       "      <td>8.707828</td>\n",
       "      <td>-4.502172</td>\n",
       "      <td>0.002037</td>\n",
       "      <td>0.001111</td>\n",
       "      <td>0.007778</td>\n",
       "      <td>1</td>\n",
       "      <td>0.050</td>\n",
       "    </tr>\n",
       "    <tr>\n",
       "      <th>3</th>\n",
       "      <td>0.442980</td>\n",
       "      <td>8.718078</td>\n",
       "      <td>-4.502980</td>\n",
       "      <td>0.000403</td>\n",
       "      <td>0.004648</td>\n",
       "      <td>0.008384</td>\n",
       "      <td>1</td>\n",
       "      <td>0.075</td>\n",
       "    </tr>\n",
       "    <tr>\n",
       "      <th>4</th>\n",
       "      <td>0.485234</td>\n",
       "      <td>8.725234</td>\n",
       "      <td>-4.520000</td>\n",
       "      <td>-0.000020</td>\n",
       "      <td>0.006667</td>\n",
       "      <td>0.007778</td>\n",
       "      <td>1</td>\n",
       "      <td>0.100</td>\n",
       "    </tr>\n",
       "    <tr>\n",
       "      <th>...</th>\n",
       "      <td>...</td>\n",
       "      <td>...</td>\n",
       "      <td>...</td>\n",
       "      <td>...</td>\n",
       "      <td>...</td>\n",
       "      <td>...</td>\n",
       "      <td>...</td>\n",
       "      <td>...</td>\n",
       "    </tr>\n",
       "    <tr>\n",
       "      <th>184147</th>\n",
       "      <td>1.759771</td>\n",
       "      <td>9.145114</td>\n",
       "      <td>3.150458</td>\n",
       "      <td>-0.006046</td>\n",
       "      <td>0.009510</td>\n",
       "      <td>0.035375</td>\n",
       "      <td>1</td>\n",
       "      <td>1132.850</td>\n",
       "    </tr>\n",
       "    <tr>\n",
       "      <th>184148</th>\n",
       "      <td>1.793038</td>\n",
       "      <td>9.156304</td>\n",
       "      <td>3.145874</td>\n",
       "      <td>-0.003333</td>\n",
       "      <td>0.010000</td>\n",
       "      <td>0.051222</td>\n",
       "      <td>1</td>\n",
       "      <td>1132.875</td>\n",
       "    </tr>\n",
       "    <tr>\n",
       "      <th>184149</th>\n",
       "      <td>1.885642</td>\n",
       "      <td>9.121285</td>\n",
       "      <td>3.091285</td>\n",
       "      <td>-0.005124</td>\n",
       "      <td>0.022902</td>\n",
       "      <td>0.063333</td>\n",
       "      <td>1</td>\n",
       "      <td>1132.900</td>\n",
       "    </tr>\n",
       "    <tr>\n",
       "      <th>184150</th>\n",
       "      <td>1.864490</td>\n",
       "      <td>9.156898</td>\n",
       "      <td>3.117592</td>\n",
       "      <td>-0.006667</td>\n",
       "      <td>0.017093</td>\n",
       "      <td>0.065642</td>\n",
       "      <td>1</td>\n",
       "      <td>1132.925</td>\n",
       "    </tr>\n",
       "    <tr>\n",
       "      <th>184151</th>\n",
       "      <td>1.839925</td>\n",
       "      <td>9.133283</td>\n",
       "      <td>3.143358</td>\n",
       "      <td>-0.006200</td>\n",
       "      <td>0.013404</td>\n",
       "      <td>0.072293</td>\n",
       "      <td>1</td>\n",
       "      <td>1132.950</td>\n",
       "    </tr>\n",
       "  </tbody>\n",
       "</table>\n",
       "<p>184152 rows × 8 columns</p>\n",
       "</div>"
      ],
      "text/plain": [
       "            accx      accy      accz     gyrox     gyroy     gyroz  session  \\\n",
       "0       0.396845  8.710000 -4.476044  0.001111 -0.008889  0.004137        1   \n",
       "1       0.413795  8.706898 -4.456205  0.000000 -0.002838  0.007162        1   \n",
       "2       0.423914  8.707828 -4.502172  0.002037  0.001111  0.007778        1   \n",
       "3       0.442980  8.718078 -4.502980  0.000403  0.004648  0.008384        1   \n",
       "4       0.485234  8.725234 -4.520000 -0.000020  0.006667  0.007778        1   \n",
       "...          ...       ...       ...       ...       ...       ...      ...   \n",
       "184147  1.759771  9.145114  3.150458 -0.006046  0.009510  0.035375        1   \n",
       "184148  1.793038  9.156304  3.145874 -0.003333  0.010000  0.051222        1   \n",
       "184149  1.885642  9.121285  3.091285 -0.005124  0.022902  0.063333        1   \n",
       "184150  1.864490  9.156898  3.117592 -0.006667  0.017093  0.065642        1   \n",
       "184151  1.839925  9.133283  3.143358 -0.006200  0.013404  0.072293        1   \n",
       "\n",
       "            time  \n",
       "0          0.000  \n",
       "1          0.025  \n",
       "2          0.050  \n",
       "3          0.075  \n",
       "4          0.100  \n",
       "...          ...  \n",
       "184147  1132.850  \n",
       "184148  1132.875  \n",
       "184149  1132.900  \n",
       "184150  1132.925  \n",
       "184151  1132.950  \n",
       "\n",
       "[184152 rows x 8 columns]"
      ]
     },
     "execution_count": 127,
     "metadata": {},
     "output_type": "execute_result"
    }
   ],
   "source": [
    "dfGradingAll"
   ]
  },
  {
   "cell_type": "code",
   "execution_count": 130,
   "metadata": {},
   "outputs": [
    {
     "data": {
      "text/html": [
       "<div>\n",
       "<style scoped>\n",
       "    .dataframe tbody tr th:only-of-type {\n",
       "        vertical-align: middle;\n",
       "    }\n",
       "\n",
       "    .dataframe tbody tr th {\n",
       "        vertical-align: top;\n",
       "    }\n",
       "\n",
       "    .dataframe thead th {\n",
       "        text-align: right;\n",
       "    }\n",
       "</style>\n",
       "<table border=\"1\" class=\"dataframe\">\n",
       "  <thead>\n",
       "    <tr style=\"text-align: right;\">\n",
       "      <th></th>\n",
       "      <th>accx</th>\n",
       "      <th>accy</th>\n",
       "      <th>accz</th>\n",
       "      <th>gyrox</th>\n",
       "      <th>gyroy</th>\n",
       "      <th>gyroz</th>\n",
       "      <th>session</th>\n",
       "      <th>time</th>\n",
       "    </tr>\n",
       "  </thead>\n",
       "  <tbody>\n",
       "    <tr>\n",
       "      <th>0</th>\n",
       "      <td>0.396845</td>\n",
       "      <td>8.710000</td>\n",
       "      <td>-4.476044</td>\n",
       "      <td>0.001111</td>\n",
       "      <td>-0.008889</td>\n",
       "      <td>0.004137</td>\n",
       "      <td>1</td>\n",
       "      <td>0.000</td>\n",
       "    </tr>\n",
       "    <tr>\n",
       "      <th>1</th>\n",
       "      <td>0.413795</td>\n",
       "      <td>8.706898</td>\n",
       "      <td>-4.456205</td>\n",
       "      <td>0.000000</td>\n",
       "      <td>-0.002838</td>\n",
       "      <td>0.007162</td>\n",
       "      <td>1</td>\n",
       "      <td>0.025</td>\n",
       "    </tr>\n",
       "    <tr>\n",
       "      <th>2</th>\n",
       "      <td>0.423914</td>\n",
       "      <td>8.707828</td>\n",
       "      <td>-4.502172</td>\n",
       "      <td>0.002037</td>\n",
       "      <td>0.001111</td>\n",
       "      <td>0.007778</td>\n",
       "      <td>1</td>\n",
       "      <td>0.050</td>\n",
       "    </tr>\n",
       "    <tr>\n",
       "      <th>3</th>\n",
       "      <td>0.442980</td>\n",
       "      <td>8.718078</td>\n",
       "      <td>-4.502980</td>\n",
       "      <td>0.000403</td>\n",
       "      <td>0.004648</td>\n",
       "      <td>0.008384</td>\n",
       "      <td>1</td>\n",
       "      <td>0.075</td>\n",
       "    </tr>\n",
       "    <tr>\n",
       "      <th>4</th>\n",
       "      <td>0.485234</td>\n",
       "      <td>8.725234</td>\n",
       "      <td>-4.520000</td>\n",
       "      <td>-0.000020</td>\n",
       "      <td>0.006667</td>\n",
       "      <td>0.007778</td>\n",
       "      <td>1</td>\n",
       "      <td>0.100</td>\n",
       "    </tr>\n",
       "    <tr>\n",
       "      <th>...</th>\n",
       "      <td>...</td>\n",
       "      <td>...</td>\n",
       "      <td>...</td>\n",
       "      <td>...</td>\n",
       "      <td>...</td>\n",
       "      <td>...</td>\n",
       "      <td>...</td>\n",
       "      <td>...</td>\n",
       "    </tr>\n",
       "    <tr>\n",
       "      <th>37986</th>\n",
       "      <td>0.930160</td>\n",
       "      <td>9.009839</td>\n",
       "      <td>-3.756774</td>\n",
       "      <td>0.000203</td>\n",
       "      <td>0.000706</td>\n",
       "      <td>0.003739</td>\n",
       "      <td>1</td>\n",
       "      <td>949.650</td>\n",
       "    </tr>\n",
       "    <tr>\n",
       "      <th>37987</th>\n",
       "      <td>0.955662</td>\n",
       "      <td>8.983775</td>\n",
       "      <td>-3.763775</td>\n",
       "      <td>-0.001557</td>\n",
       "      <td>0.001610</td>\n",
       "      <td>0.001111</td>\n",
       "      <td>1</td>\n",
       "      <td>949.675</td>\n",
       "    </tr>\n",
       "    <tr>\n",
       "      <th>37988</th>\n",
       "      <td>0.930297</td>\n",
       "      <td>9.000000</td>\n",
       "      <td>-3.750178</td>\n",
       "      <td>0.001963</td>\n",
       "      <td>0.002815</td>\n",
       "      <td>0.001629</td>\n",
       "      <td>1</td>\n",
       "      <td>949.700</td>\n",
       "    </tr>\n",
       "    <tr>\n",
       "      <th>37989</th>\n",
       "      <td>0.965183</td>\n",
       "      <td>9.015183</td>\n",
       "      <td>-3.780000</td>\n",
       "      <td>0.001557</td>\n",
       "      <td>-0.000111</td>\n",
       "      <td>0.002334</td>\n",
       "      <td>1</td>\n",
       "      <td>949.725</td>\n",
       "    </tr>\n",
       "    <tr>\n",
       "      <th>37990</th>\n",
       "      <td>0.985275</td>\n",
       "      <td>9.007637</td>\n",
       "      <td>-3.762912</td>\n",
       "      <td>-0.000535</td>\n",
       "      <td>-0.001838</td>\n",
       "      <td>0.000000</td>\n",
       "      <td>1</td>\n",
       "      <td>949.750</td>\n",
       "    </tr>\n",
       "  </tbody>\n",
       "</table>\n",
       "<p>37991 rows × 8 columns</p>\n",
       "</div>"
      ],
      "text/plain": [
       "           accx      accy      accz     gyrox     gyroy     gyroz  session  \\\n",
       "0      0.396845  8.710000 -4.476044  0.001111 -0.008889  0.004137        1   \n",
       "1      0.413795  8.706898 -4.456205  0.000000 -0.002838  0.007162        1   \n",
       "2      0.423914  8.707828 -4.502172  0.002037  0.001111  0.007778        1   \n",
       "3      0.442980  8.718078 -4.502980  0.000403  0.004648  0.008384        1   \n",
       "4      0.485234  8.725234 -4.520000 -0.000020  0.006667  0.007778        1   \n",
       "...         ...       ...       ...       ...       ...       ...      ...   \n",
       "37986  0.930160  9.009839 -3.756774  0.000203  0.000706  0.003739        1   \n",
       "37987  0.955662  8.983775 -3.763775 -0.001557  0.001610  0.001111        1   \n",
       "37988  0.930297  9.000000 -3.750178  0.001963  0.002815  0.001629        1   \n",
       "37989  0.965183  9.015183 -3.780000  0.001557 -0.000111  0.002334        1   \n",
       "37990  0.985275  9.007637 -3.762912 -0.000535 -0.001838  0.000000        1   \n",
       "\n",
       "          time  \n",
       "0        0.000  \n",
       "1        0.025  \n",
       "2        0.050  \n",
       "3        0.075  \n",
       "4        0.100  \n",
       "...        ...  \n",
       "37986  949.650  \n",
       "37987  949.675  \n",
       "37988  949.700  \n",
       "37989  949.725  \n",
       "37990  949.750  \n",
       "\n",
       "[37991 rows x 8 columns]"
      ]
     },
     "execution_count": 130,
     "metadata": {},
     "output_type": "execute_result"
    }
   ],
   "source": [
    "dctTestData['subject_9_x']"
   ]
  },
  {
   "cell_type": "code",
   "execution_count": 129,
   "metadata": {},
   "outputs": [
    {
     "data": {
      "text/html": [
       "<div>\n",
       "<style scoped>\n",
       "    .dataframe tbody tr th:only-of-type {\n",
       "        vertical-align: middle;\n",
       "    }\n",
       "\n",
       "    .dataframe tbody tr th {\n",
       "        vertical-align: top;\n",
       "    }\n",
       "\n",
       "    .dataframe thead th {\n",
       "        text-align: right;\n",
       "    }\n",
       "</style>\n",
       "<table border=\"1\" class=\"dataframe\">\n",
       "  <thead>\n",
       "    <tr style=\"text-align: right;\">\n",
       "      <th></th>\n",
       "      <th>seconds</th>\n",
       "    </tr>\n",
       "  </thead>\n",
       "  <tbody>\n",
       "    <tr>\n",
       "      <th>37991</th>\n",
       "      <td>0.02</td>\n",
       "    </tr>\n",
       "    <tr>\n",
       "      <th>37992</th>\n",
       "      <td>0.12</td>\n",
       "    </tr>\n",
       "    <tr>\n",
       "      <th>37993</th>\n",
       "      <td>0.22</td>\n",
       "    </tr>\n",
       "    <tr>\n",
       "      <th>37994</th>\n",
       "      <td>0.32</td>\n",
       "    </tr>\n",
       "    <tr>\n",
       "      <th>37995</th>\n",
       "      <td>0.42</td>\n",
       "    </tr>\n",
       "    <tr>\n",
       "      <th>...</th>\n",
       "      <td>...</td>\n",
       "    </tr>\n",
       "    <tr>\n",
       "      <th>47484</th>\n",
       "      <td>949.32</td>\n",
       "    </tr>\n",
       "    <tr>\n",
       "      <th>47485</th>\n",
       "      <td>949.42</td>\n",
       "    </tr>\n",
       "    <tr>\n",
       "      <th>47486</th>\n",
       "      <td>949.52</td>\n",
       "    </tr>\n",
       "    <tr>\n",
       "      <th>47487</th>\n",
       "      <td>949.62</td>\n",
       "    </tr>\n",
       "    <tr>\n",
       "      <th>47488</th>\n",
       "      <td>949.72</td>\n",
       "    </tr>\n",
       "  </tbody>\n",
       "</table>\n",
       "<p>9498 rows × 1 columns</p>\n",
       "</div>"
      ],
      "text/plain": [
       "       seconds\n",
       "37991     0.02\n",
       "37992     0.12\n",
       "37993     0.22\n",
       "37994     0.32\n",
       "37995     0.42\n",
       "...        ...\n",
       "47484   949.32\n",
       "47485   949.42\n",
       "47486   949.52\n",
       "47487   949.62\n",
       "47488   949.72\n",
       "\n",
       "[9498 rows x 1 columns]"
      ]
     },
     "execution_count": 129,
     "metadata": {},
     "output_type": "execute_result"
    }
   ],
   "source": [
    "dctTestData['subject_9_y']"
   ]
  },
  {
   "cell_type": "code",
   "execution_count": null,
   "metadata": {},
   "outputs": [],
   "source": []
  }
 ],
 "metadata": {
  "kernelspec": {
   "display_name": "torch",
   "language": "python",
   "name": "python3"
  },
  "language_info": {
   "codemirror_mode": {
    "name": "ipython",
    "version": 3
   },
   "file_extension": ".py",
   "mimetype": "text/x-python",
   "name": "python",
   "nbconvert_exporter": "python",
   "pygments_lexer": "ipython3",
   "version": "3.8.15"
  },
  "orig_nbformat": 4
 },
 "nbformat": 4,
 "nbformat_minor": 2
}
